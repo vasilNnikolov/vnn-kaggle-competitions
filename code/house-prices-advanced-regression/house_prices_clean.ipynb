{
 "cells": [
  {
   "cell_type": "markdown",
   "metadata": {},
   "source": [
    "# Competition where metric is rmse of log of prices\n",
    "[Competition](https://www.kaggle.com/c/house-prices-advanced-regression-techniques/data?select=train.csv)"
   ]
  },
  {
   "cell_type": "code",
   "execution_count": 1,
   "metadata": {},
   "outputs": [],
   "source": [
    "# Set up code checking\n",
    "# Set up filepaths\n",
    "import os\n",
    "os.chdir(os.path.join(os.path.expanduser('~'), 'kaggle'))"
   ]
  },
  {
   "cell_type": "code",
   "execution_count": 2,
   "metadata": {},
   "outputs": [],
   "source": [
    "import numpy as np\n",
    "import pandas as pd\n",
    "import matplotlib.pyplot as plt"
   ]
  },
  {
   "cell_type": "markdown",
   "metadata": {},
   "source": [
    "## Load data into dataframes"
   ]
  },
  {
   "cell_type": "code",
   "execution_count": 3,
   "metadata": {},
   "outputs": [],
   "source": [
    "train_path = os.path.join('data', 'house-prices-advanced-regression', 'train.csv')\n",
    "train_data = pd.read_csv(train_path)\n",
    "\n",
    "test_path = os.path.join('data', 'house-prices-advanced-regression', 'test.csv')\n",
    "test_data_original = pd.read_csv(test_path)"
   ]
  },
  {
   "cell_type": "markdown",
   "metadata": {},
   "source": [
    "## Select numerical and categorical variables, and separate target from features"
   ]
  },
  {
   "cell_type": "code",
   "execution_count": 4,
   "metadata": {},
   "outputs": [
    {
     "name": "stdout",
     "output_type": "stream",
     "text": [
      "(1460, 78) (1459, 78)\n"
     ]
    }
   ],
   "source": [
    "y = np.log(train_data['SalePrice'])\n",
    "train_data.drop(columns=['SalePrice', 'Id'], inplace=True)\n",
    "test_data = test_data_original.drop(columns=['Id'])\n",
    "\n",
    "# remove stupid columns\n",
    "train_data.drop(columns=['LowQualFinSF'], inplace=True)\n",
    "test_data.drop(columns=['LowQualFinSF'], inplace=True)\n",
    "\n",
    "numerical_columns = train_data.select_dtypes(include=np.number).columns.tolist()\n",
    "\n",
    "numerical_columns.remove('MSSubClass')\n",
    "\n",
    "categorical_columns = [c for c in train_data.columns if c not in numerical_columns]\n",
    "\n",
    "print(train_data.shape, test_data.shape)"
   ]
  },
  {
   "cell_type": "markdown",
   "metadata": {},
   "source": [
    "## Some EDA and feature removal"
   ]
  },
  {
   "cell_type": "code",
   "execution_count": 5,
   "metadata": {},
   "outputs": [],
   "source": [
    "# fig = train_data.hist(column=numerical_columns, figsize=(20, 20), rwidth=0.9)\n",
    "\n",
    "gaussable_columns = [\n",
    "    'LotFrontage',\n",
    "    'OverallQual',\n",
    "    'OverallCond',\n",
    "    'TotalBsmtSF',\n",
    "    '1stFlrSF', \n",
    "    '2ndFlrSF', \n",
    "    'GrLivArea',\n",
    "    'BedroomAbvGr',\n",
    "    'TotRmsAbvGrd',\n",
    "    'GarageArea'\n",
    "]\n"
   ]
  },
  {
   "cell_type": "markdown",
   "metadata": {},
   "source": [
    "## Add missing data col for every column with missing data"
   ]
  },
  {
   "cell_type": "code",
   "execution_count": 6,
   "metadata": {},
   "outputs": [],
   "source": [
    "from sklearn.base import BaseEstimator, TransformerMixin\n",
    "from sklearn.preprocessing import OneHotEncoder, StandardScaler, PowerTransformer, MinMaxScaler\n",
    "from sklearn.impute import SimpleImputer\n",
    "from sklearn.pipeline import Pipeline\n",
    "from sklearn.compose import ColumnTransformer\n",
    "\n",
    "# adds additional column which indicates whether data was missing for given feature\n",
    "class AddMissingIndicator(BaseEstimator, TransformerMixin):\n",
    "    def __init__(self):\n",
    "        self.num_cols_with_na = [] \n",
    "\n",
    "    def fit(self, X, y=None):\n",
    "        df = pd.DataFrame(X)\n",
    "        self.num_cols_with_na = [c for c in df.columns if df[c].isna().any()]\n",
    "        return self\n",
    "    \n",
    "    def transform(self, X, y=None):\n",
    "        df_to_transform = pd.DataFrame(X)\n",
    "        for c in self.num_cols_with_na:\n",
    "            missing_col_name = f\"{c}_is_missing\"\n",
    "            df_to_transform[missing_col_name] = np.where(X[c].isna(), 1, 0) \n",
    "        \n",
    "        return df_to_transform \n",
    "\n",
    "\n",
    "cat_pipeline = Pipeline([\n",
    "    ('imputer', SimpleImputer(strategy='constant', fill_value='Missing')), \n",
    "    ('OHE', OneHotEncoder(sparse=False, handle_unknown='ignore'))\n",
    "])\n",
    "\n",
    "normal_numeric_columns = [c for c in numerical_columns if c not in gaussable_columns]\n",
    "\n",
    "standard_num_pipeline = Pipeline(steps=[\n",
    "    ('missing_indicator', AddMissingIndicator()),\n",
    "    ('imputer', SimpleImputer(strategy='median')), \n",
    "    ('scaler', StandardScaler())\n",
    "])\n",
    "\n",
    "gauss_num_pipeline = Pipeline(steps=[\n",
    "    ('missing_indicator', AddMissingIndicator()),\n",
    "    ('imputer', SimpleImputer(strategy='median')), \n",
    "    ('power_scaler', PowerTransformer())\n",
    "])\n",
    "\n",
    "\n",
    "preprocessing = ColumnTransformer(transformers=[\n",
    "    ('normal_numerical', standard_num_pipeline, normal_numeric_columns),\n",
    "    ('gauss_numerical', gauss_num_pipeline, gaussable_columns),\n",
    "    ('categorical', cat_pipeline, categorical_columns)\n",
    "])\n",
    "\n"
   ]
  },
  {
   "cell_type": "code",
   "execution_count": 7,
   "metadata": {},
   "outputs": [],
   "source": [
    "from sklearn.model_selection import train_test_split, cross_val_score\n",
    "from sklearn.metrics import mean_squared_error, mean_absolute_error "
   ]
  },
  {
   "cell_type": "markdown",
   "metadata": {},
   "source": [
    "## Test different regression models"
   ]
  },
  {
   "cell_type": "code",
   "execution_count": 8,
   "metadata": {},
   "outputs": [
    {
     "name": "stdout",
     "output_type": "stream",
     "text": [
      "Model: ridge\n",
      "RMSE: -0.1328379901771169\n",
      "\n",
      "Model: lasso\n",
      "RMSE: -0.3992282792085989\n",
      "\n",
      "Model: xgboost\n",
      "RMSE: -0.13945533982395122\n",
      "\n",
      "Model: GBR\n",
      "RMSE: -0.1265072676050559\n",
      "\n",
      "Model: lgbm\n",
      "RMSE: -0.13256667689915594\n",
      "\n",
      "Model: cat_boost\n",
      "RMSE: -0.11871624177756683\n",
      "\n",
      "Model: b_ridge\n",
      "RMSE: -0.12952290582498036\n",
      "\n"
     ]
    }
   ],
   "source": [
    "from sklearn.linear_model import Lasso, Ridge, BayesianRidge\n",
    "from lightgbm import LGBMRegressor\n",
    "from xgboost import XGBRegressor\n",
    "from sklearn.ensemble import GradientBoostingRegressor\n",
    "from catboost import CatBoostRegressor\n",
    "\n",
    "\n",
    "models = {\n",
    "    'ridge': Ridge(),\n",
    "    'lasso': Lasso(random_state=1),\n",
    "    'xgboost': XGBRegressor(random_state=1, eval_metric='rmse'),\n",
    "    'GBR': GradientBoostingRegressor(loss='squared_error', random_state=1),\n",
    "    'lgbm': LGBMRegressor(), \n",
    "    'cat_boost': CatBoostRegressor(silent=True), \n",
    "    'b_ridge': BayesianRidge()\n",
    "}\n",
    "\n",
    "pipelines = {key: Pipeline(steps=[\n",
    "    ('preprocessing', preprocessing),\n",
    "    (f'{key}', models[key])\n",
    "]) for key in models}\n",
    "\n",
    "def get_rmse(predictor, X, y):\n",
    "    return cross_val_score(predictor, X, y, scoring='neg_root_mean_squared_error', cv=5).mean()\n",
    "\n",
    "\n",
    "for p in pipelines:\n",
    "    predictor = pipelines[p]\n",
    "    mae = get_rmse(predictor, train_data, y)\n",
    "    print(f\"Model: {p}\")\n",
    "    print(f'RMSE: {mae}')\n",
    "    print()\n"
   ]
  },
  {
   "cell_type": "markdown",
   "metadata": {},
   "source": [
    "## GridSearchCV parameters for models with small number of params"
   ]
  },
  {
   "cell_type": "code",
   "execution_count": 47,
   "metadata": {},
   "outputs": [],
   "source": [
    "param_grid_small_model = {}\n",
    "\n",
    "param_grid_small_model['ridge'] = {\n",
    "    'ridge__alpha': np.logspace(1.5, 1.8, num=11),\n",
    "    'ridge__tol': np.logspace(-6, -5, num=11)\n",
    "}\n",
    "\n",
    "param_grid_small_model['lasso'] = {\n",
    "    'lasso__alpha': np.logspace(-2, 0, num=11),\n",
    "    'lasso__tol': np.logspace(-4, -3.5, num=2)\n",
    "}"
   ]
  },
  {
   "cell_type": "code",
   "execution_count": 48,
   "metadata": {},
   "outputs": [
    {
     "name": "stdout",
     "output_type": "stream",
     "text": [
      "Model name: ridge\n",
      "Best values: {'ridge__alpha': 31.622776601683793, 'ridge__tol': 1e-06}\n",
      "Best score MAE: -0.13034821571196342\n",
      "\n",
      "Model name: lasso\n",
      "Best values: {'lasso__alpha': 0.01, 'lasso__tol': 0.0001}\n",
      "Best score MAE: -0.1484399573235937\n",
      "\n"
     ]
    }
   ],
   "source": [
    "from sklearn.model_selection import GridSearchCV\n",
    "\n",
    "for model_name in param_grid_small_model:\n",
    "    print(f\"Model name: {model_name}\")\n",
    "    pipe = pipelines[model_name]\n",
    "    search = GridSearchCV(estimator=pipe, param_grid=param_grid_small_model[model_name], scoring='neg_root_mean_squared_error')\n",
    "    search.fit(train_data, y)\n",
    "    print(f'Best values: {search.best_params_}')\n",
    "    print(f'Best score MAE: {search.best_score_}')\n",
    "    print()"
   ]
  },
  {
   "cell_type": "markdown",
   "metadata": {},
   "source": [
    "## Grid search for models with many params"
   ]
  },
  {
   "cell_type": "code",
   "execution_count": 29,
   "metadata": {},
   "outputs": [],
   "source": [
    "consecutive_param_grids = {}\n",
    "consecutive_param_grids['xgboost'] = [ \n",
    "    {\n",
    "        'xgboost__max_depth':range(1,4),\n",
    "        'xgboost__n_estimators': range(200, 500, 40),\n",
    "        'xgboost__min_child_weight': [1], \n",
    "        'xgboost__eval_metric': ['rmse'],\n",
    "        'xgboost__gamma': [0]\n",
    "    }, \n",
    "    {\n",
    "        'xgboost__subsample':[i/10.0 for i in range(6,11)],\n",
    "        'xgboost__colsample_bytree':[i/10.0 for i in range(2,9)]\n",
    "    }, \n",
    "    {\n",
    "        'xgboost__reg_alpha':[1e-4, 1e-3, 1e-2]\n",
    "    }\n",
    "]\n",
    "\n",
    "\n",
    "# consecutive_param_grids['GBR'] = [\n",
    "#     {\n",
    "#         'GBR__n_estimators': range(300, 400, 10), \n",
    "#         'GBR__subsample': [1],\n",
    "#         'GBR__loss': ['squared_error'],\n",
    "#         'GBR__random_state': [1]\n",
    "#     }, \n",
    "#     {\n",
    "#         'GBR__max_depth': range(2,5), \n",
    "#         'GBR__min_samples_split': range(8,20,2),\n",
    "#     }\n",
    "# ]\n"
   ]
  },
  {
   "cell_type": "code",
   "execution_count": 30,
   "metadata": {},
   "outputs": [
    {
     "name": "stdout",
     "output_type": "stream",
     "text": [
      "xgboost\n",
      "{'xgboost__max_depth': range(1, 4), 'xgboost__n_estimators': range(200, 500, 40), 'xgboost__min_child_weight': [1], 'xgboost__eval_metric': ['rmse'], 'xgboost__gamma': [0]}\n",
      "Best settings on step 0: {'xgboost__eval_metric': ['rmse'], 'xgboost__gamma': [0], 'xgboost__max_depth': [2], 'xgboost__min_child_weight': [1], 'xgboost__n_estimators': [320]}\n",
      "RMSE: -0.12516491630533721\n",
      "{'xgboost__eval_metric': ['rmse'], 'xgboost__gamma': [0], 'xgboost__max_depth': [2], 'xgboost__min_child_weight': [1], 'xgboost__n_estimators': [320], 'xgboost__subsample': [0.6, 0.7, 0.8, 0.9, 1.0], 'xgboost__colsample_bytree': [0.2, 0.3, 0.4, 0.5, 0.6, 0.7, 0.8]}\n",
      "Best settings on step 1: {'xgboost__eval_metric': ['rmse'], 'xgboost__gamma': [0], 'xgboost__max_depth': [2], 'xgboost__min_child_weight': [1], 'xgboost__n_estimators': [320], 'xgboost__colsample_bytree': [0.4], 'xgboost__subsample': [1.0]}\n",
      "RMSE: -0.12477966423507567\n",
      "{'xgboost__eval_metric': ['rmse'], 'xgboost__gamma': [0], 'xgboost__max_depth': [2], 'xgboost__min_child_weight': [1], 'xgboost__n_estimators': [320], 'xgboost__colsample_bytree': [0.4], 'xgboost__subsample': [1.0], 'xgboost__reg_alpha': [0.0001, 0.001, 0.01]}\n",
      "Best settings on step 2: {'xgboost__eval_metric': ['rmse'], 'xgboost__gamma': [0], 'xgboost__max_depth': [2], 'xgboost__min_child_weight': [1], 'xgboost__n_estimators': [320], 'xgboost__colsample_bytree': [0.4], 'xgboost__subsample': [1.0], 'xgboost__reg_alpha': [0.001]}\n",
      "RMSE: -0.12435816233335992\n",
      "\n",
      "Model xgboost best params: \n",
      "{'xgboost__eval_metric': ['rmse'], 'xgboost__gamma': [0], 'xgboost__max_depth': [2], 'xgboost__min_child_weight': [1], 'xgboost__n_estimators': [320], 'xgboost__colsample_bytree': [0.4], 'xgboost__subsample': [1.0], 'xgboost__reg_alpha': [0.001]}\n"
     ]
    }
   ],
   "source": [
    "for pipe_name in consecutive_param_grids:\n",
    "    print(pipe_name)\n",
    "    pipe = pipelines[pipe_name]\n",
    "    n_steps = len(consecutive_param_grids[pipe_name])\n",
    "    best_params = {}\n",
    "    for step in range(n_steps):\n",
    "        # coarse step\n",
    "        sum_of_settings = {**best_params, **consecutive_param_grids[pipe_name][step]}\n",
    "        print(sum_of_settings)\n",
    "        coarse_search = GridSearchCV(pipe, param_grid=sum_of_settings, scoring='neg_root_mean_squared_error')\n",
    "        coarse_search.fit(train_data, y)\n",
    "        for param_name in coarse_search.best_params_:\n",
    "            best_params[param_name] = [coarse_search.best_params_[param_name]]\n",
    "        print(f'Best settings on step {step}: {best_params}')\n",
    "        print(f'RMSE: {coarse_search.best_score_}')\n",
    "\n",
    "    print()\n",
    "    print(f\"Model {pipe_name} best params: \")\n",
    "    print(best_params)\n"
   ]
  },
  {
   "cell_type": "code",
   "execution_count": 14,
   "metadata": {},
   "outputs": [
    {
     "name": "stdout",
     "output_type": "stream",
     "text": [
      "Model xgboost: rmse -0.12436\n",
      "Model GBR: rmse -0.12421\n",
      "Model ridge: rmse -0.13035\n",
      "Model lgbm: rmse -0.13257\n",
      "Model cat_boost: rmse -0.11872\n",
      "Model b_ridge: rmse -0.12952\n",
      "Ensemble model rmse: -0.11720\n"
     ]
    }
   ],
   "source": [
    "from sklearn.ensemble import VotingRegressor\n",
    "final_best_params = {}\n",
    "\n",
    "final_best_params['xgboost'] = {\n",
    "    'xgboost__eval_metric': 'rmse', \n",
    "    'xgboost__max_depth': 2, \n",
    "    'xgboost__n_estimators': 320,\n",
    "    'xgboost__min_child_weight': 1, \n",
    "    'xgboost__gamma': 0.0, \n",
    "    'xgboost__colsample_bytree': 0.4, \n",
    "    'xgboost__subsample': 1, \n",
    "    'xgboost__reg_alpha': 0.001\n",
    "}\n",
    "\n",
    "final_best_params['GBR'] = {\n",
    "    'GBR__loss': 'squared_error', \n",
    "    'GBR__n_estimators': 380, \n",
    "    'GBR__random_state': 1, \n",
    "    'GBR__subsample': 1, \n",
    "    'GBR__max_depth': 4, \n",
    "    'GBR__min_samples_split': 8 \n",
    "}\n",
    "\n",
    "final_best_params['ridge'] = {\n",
    "    'ridge__alpha': 31.622776601683793, \n",
    "    'ridge__tol': 1e-06\n",
    "}\n",
    "\n",
    "final_best_params['lgbm'] = {}\n",
    "\n",
    "final_best_params['cat_boost'] = {}\n",
    "\n",
    "final_best_params['b_ridge'] = {}\n",
    "\n",
    "list_of_models = []\n",
    "scores = []\n",
    "for pipe_name in final_best_params:\n",
    "    # set the corresponding model with the optimal parameters\n",
    "    pipelines[pipe_name] = pipelines[pipe_name].set_params(**final_best_params[pipe_name])\n",
    "    pipe = pipelines[pipe_name]\n",
    "    list_of_models.append((pipe_name, pipe))\n",
    "    rmse = get_rmse(pipe, train_data, y)\n",
    "    scores.append(-rmse)\n",
    "    print(f'Model {pipe_name}: rmse {rmse:.5f}')\n",
    "\n",
    "weights = [min(scores)/score for score in scores]\n",
    "\n",
    "final_estimator = VotingRegressor(list_of_models, weights=weights)\n",
    "print(f'Ensemble model rmse: {get_rmse(final_estimator, train_data, y):.5f}')"
   ]
  },
  {
   "cell_type": "markdown",
   "metadata": {},
   "source": [
    "## Stacking model"
   ]
  },
  {
   "cell_type": "code",
   "execution_count": null,
   "metadata": {},
   "outputs": [],
   "source": [
    "from sklearn.ensemble import StackingRegressor \n",
    "from sklearn.linear_model import LinearRegression\n",
    "\n",
    "# final_best_params['lasso'] = {\n",
    "#     'lasso__alpha': 0.01, \n",
    "#     'lasso__tol': 0.0001\n",
    "# }\n",
    "\n",
    "\n",
    "print([i for i in final_best_params])\n",
    "all_estimators = [(name, pipelines[name]) for name in final_best_params]\n",
    "stacked_model = StackingRegressor(estimators=all_estimators, \n",
    "                                    final_estimator=CatBoostRegressor(silent=True))\n",
    "\n",
    "\n",
    "print('Stacked model')\n",
    "print(f'RMSE: {get_rmse(stacked_model, train_data, y):.5f}')"
   ]
  },
  {
   "cell_type": "markdown",
   "metadata": {},
   "source": [
    "## Generate final submission "
   ]
  },
  {
   "cell_type": "code",
   "execution_count": 28,
   "metadata": {},
   "outputs": [
    {
     "name": "stdout",
     "output_type": "stream",
     "text": [
      "(1459,) (1459,)\n"
     ]
    }
   ],
   "source": [
    "final_predictions = final_estimator.fit(train_data, y).predict(test_data)\n",
    "print(np.exp(final_predictions).shape, test_data_original['Id'].shape)\n",
    "output = pd.DataFrame({'Id': test_data_original.Id,\n",
    "                    'SalePrice': np.exp(final_predictions)})\n",
    "output.to_csv(f'code/house-prices-advanced-regression/big_ensemble_model.csv', index=False)"
   ]
  },
  {
   "cell_type": "code",
   "execution_count": null,
   "metadata": {},
   "outputs": [],
   "source": []
  }
 ],
 "metadata": {
  "interpreter": {
   "hash": "18f423941bc9d114fae7f04d212a56739c178c1e988574dac5cc94b8a9db688c"
  },
  "kernelspec": {
   "display_name": "Python 3.9.7",
   "language": "python",
   "name": "python3"
  },
  "language_info": {
   "codemirror_mode": {
    "name": "ipython",
    "version": 3
   },
   "file_extension": ".py",
   "mimetype": "text/x-python",
   "name": "python",
   "nbconvert_exporter": "python",
   "pygments_lexer": "ipython3",
   "version": "3.9.7"
  },
  "orig_nbformat": 4
 },
 "nbformat": 4,
 "nbformat_minor": 2
}
