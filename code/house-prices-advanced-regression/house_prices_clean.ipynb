{
 "cells": [
  {
   "cell_type": "markdown",
   "metadata": {},
   "source": [
    "# Competition where metric is rmse of log of prices\n",
    "[Competition](https://www.kaggle.com/c/house-prices-advanced-regression-techniques/data?select=train.csv)"
   ]
  },
  {
   "cell_type": "code",
   "execution_count": 70,
   "metadata": {},
   "outputs": [],
   "source": [
    "# Set up code checking\n",
    "# Set up filepaths\n",
    "import os\n",
    "os.chdir(os.path.join(os.path.expanduser('~'), 'kaggle'))"
   ]
  },
  {
   "cell_type": "code",
   "execution_count": 71,
   "metadata": {},
   "outputs": [],
   "source": [
    "import numpy as np\n",
    "import pandas as pd\n",
    "import matplotlib.pyplot as plt\n",
    "\n",
    "from sklearn.preprocessing import OneHotEncoder, StandardScaler\n",
    "from sklearn.impute import SimpleImputer\n",
    "from sklearn.pipeline import Pipeline\n",
    "from sklearn.compose import ColumnTransformer\n"
   ]
  },
  {
   "cell_type": "markdown",
   "metadata": {},
   "source": [
    "## Load data into dataframes"
   ]
  },
  {
   "cell_type": "code",
   "execution_count": 72,
   "metadata": {},
   "outputs": [],
   "source": [
    "train_path = os.path.join('data', 'house-prices-advanced-regression', 'train.csv')\n",
    "train_data = pd.read_csv(train_path)\n",
    "\n",
    "test_path = os.path.join('data', 'house-prices-advanced-regression', 'test.csv')\n",
    "test_data = pd.read_csv(test_path)"
   ]
  },
  {
   "cell_type": "markdown",
   "metadata": {},
   "source": [
    "## Select numerical and categorical variables, and separate target from features"
   ]
  },
  {
   "cell_type": "code",
   "execution_count": 73,
   "metadata": {},
   "outputs": [
    {
     "name": "stdout",
     "output_type": "stream",
     "text": [
      "['LotFrontage', 'LotArea', 'OverallQual', 'OverallCond', 'YearBuilt', 'YearRemodAdd', 'MasVnrArea', 'BsmtFinSF1', 'BsmtFinSF2', 'BsmtUnfSF', 'TotalBsmtSF', '1stFlrSF', '2ndFlrSF', 'LowQualFinSF', 'GrLivArea', 'BsmtFullBath', 'BsmtHalfBath', 'FullBath', 'HalfBath', 'BedroomAbvGr', 'KitchenAbvGr', 'TotRmsAbvGrd', 'Fireplaces', 'GarageYrBlt', 'GarageCars', 'GarageArea', 'WoodDeckSF', 'OpenPorchSF', 'EnclosedPorch', '3SsnPorch', 'ScreenPorch', 'PoolArea', 'MiscVal', 'MoSold', 'YrSold']\n",
      "['MSSubClass', 'MSZoning', 'Street', 'Alley', 'LotShape', 'LandContour', 'Utilities', 'LotConfig', 'LandSlope', 'Neighborhood', 'Condition1', 'Condition2', 'BldgType', 'HouseStyle', 'RoofStyle', 'RoofMatl', 'Exterior1st', 'Exterior2nd', 'MasVnrType', 'ExterQual', 'ExterCond', 'Foundation', 'BsmtQual', 'BsmtCond', 'BsmtExposure', 'BsmtFinType1', 'BsmtFinType2', 'Heating', 'HeatingQC', 'CentralAir', 'Electrical', 'KitchenQual', 'Functional', 'FireplaceQu', 'GarageType', 'GarageFinish', 'GarageQual', 'GarageCond', 'PavedDrive', 'PoolQC', 'Fence', 'MiscFeature', 'SaleType', 'SaleCondition']\n"
     ]
    }
   ],
   "source": [
    "y = np.log(train_data['SalePrice'])\n",
    "train_data.drop(columns=['SalePrice', 'Id'], inplace=True)\n",
    "test_data.drop(columns=['Id'], inplace=True)\n",
    "\n",
    "numerical_columns = train_data.select_dtypes(include=np.number).columns.tolist()\n",
    "\n",
    "numerical_columns.remove('MSSubClass')\n",
    "\n",
    "categorical_columns = [c for c in train_data.columns if c not in numerical_columns]\n",
    "\n",
    "print(numerical_columns)\n",
    "print(categorical_columns)"
   ]
  },
  {
   "cell_type": "markdown",
   "metadata": {},
   "source": [
    "## Some EDA and feature removal"
   ]
  },
  {
   "cell_type": "code",
   "execution_count": 74,
   "metadata": {},
   "outputs": [
    {
     "name": "stdout",
     "output_type": "stream",
     "text": [
      "count    1460.000000\n",
      "mean        5.844521\n",
      "std        48.623081\n",
      "min         0.000000\n",
      "25%         0.000000\n",
      "50%         0.000000\n",
      "75%         0.000000\n",
      "max       572.000000\n",
      "Name: LowQualFinSF, dtype: float64\n",
      "26\n"
     ]
    },
    {
     "data": {
      "image/png": "[encoded data removed]",
      "text/plain": [
       "<Figure size 1440x1440 with 1 Axes>"
      ]
     },
     "metadata": {
      "needs_background": "light"
     },
     "output_type": "display_data"
    }
   ],
   "source": [
    "fig = train_data.hist(column=numerical_columns, figsize=(20, 20), rwidth=0.9)\n",
    "\n",
    "# remove stupid columns\n",
    "print(train_data['LowQualFinSF'].describe())\n",
    "print(train_data[train_data['LowQualFinSF'] > 0]['LowQualFinSF'].count())"
   ]
  },
  {
   "cell_type": "markdown",
   "metadata": {},
   "source": [
    "## Add missing data col for every column with missing data"
   ]
  },
  {
   "cell_type": "code",
   "execution_count": 6,
   "metadata": {},
   "outputs": [],
   "source": [
    "from sklearn.base import BaseEstimator, TransformerMixin\n",
    "\n",
    "# adds additional column which indicates whether data was missing for given feature\n",
    "class AddMissingIndicator(BaseEstimator, TransformerMixin):\n",
    "    def __init__(self, numeric_columns):\n",
    "        self.numeric_columns = numeric_columns\n",
    "        self.num_cols_with_na = [] \n",
    "\n",
    "    def fit(self, X, y=None):\n",
    "        self.num_cols_with_na = [c for c in self.numeric_columns if X[c].isna().any()]\n",
    "        return self\n",
    "    \n",
    "    def transform(self, X, y=None):\n",
    "        for c in self.num_cols_with_na:\n",
    "            missing_col_name = f\"{c}_is_missing\"\n",
    "            X[missing_col_name] = np.where(X[c].isna(), 1, 0)\n",
    "        \n",
    "        return X \n",
    "\n",
    "\n",
    "cat_pipeline = Pipeline([\n",
    "    ('imputer', SimpleImputer(strategy='constant', fill_value='Missing')), \n",
    "    ('OHE', OneHotEncoder(sparse=False, handle_unknown='ignore'))\n",
    "])\n",
    "\n",
    "num_pipeline = Pipeline(steps=[\n",
    "    ('missing_indicator', AddMissingIndicator(numerical_columns)),\n",
    "    ('imputer', SimpleImputer(strategy='mean')), \n",
    "    ('scaler', StandardScaler())\n",
    "])\n",
    "\n",
    "\n",
    "preprocessing = ColumnTransformer(transformers=[\n",
    "    ('numerical', num_pipeline, numerical_columns),\n",
    "    ('categorical', cat_pipeline, categorical_columns)\n",
    "])\n",
    "\n"
   ]
  },
  {
   "cell_type": "code",
   "execution_count": 7,
   "metadata": {},
   "outputs": [],
   "source": [
    "from sklearn.model_selection import train_test_split\n",
    "from sklearn.metrics import mean_squared_error, mean_absolute_error \n",
    "\n",
    "X_train, X_test, y_train, y_test = train_test_split(train_data, y, test_size=0.2)"
   ]
  },
  {
   "cell_type": "markdown",
   "metadata": {},
   "source": [
    "## Test different regression models"
   ]
  },
  {
   "cell_type": "code",
   "execution_count": 8,
   "metadata": {},
   "outputs": [
    {
     "name": "stdout",
     "output_type": "stream",
     "text": [
      "Model: ridge\n",
      "RMSE: 0.18582366294558147\n",
      "\n",
      "Model: lasso\n",
      "RMSE: 0.396519083740399\n",
      "\n",
      "Model: xgboost\n",
      "RMSE: 0.12339455502154234\n",
      "\n",
      "Model: GBR\n",
      "RMSE: 0.11893758248241178\n",
      "\n"
     ]
    }
   ],
   "source": [
    "from sklearn.linear_model import Lasso, Ridge\n",
    "from lightgbm import LGBMRegressor\n",
    "from xgboost import XGBRegressor\n",
    "from sklearn.ensemble import GradientBoostingRegressor\n",
    "\n",
    "models = {\n",
    "    'ridge': Ridge(),\n",
    "    'lasso': Lasso(random_state=1),\n",
    "    'xgboost': XGBRegressor(random_state=1, eval_metric='rmse'),\n",
    "    'GBR': GradientBoostingRegressor(loss='squared_error', random_state=1),\n",
    "}\n",
    "\n",
    "pipelines = {key: Pipeline(steps=[\n",
    "    ('preprocessing', preprocessing),\n",
    "    (f'{key}', models[key])\n",
    "]) for key in models}\n",
    "\n",
    "def get_rmse(predictor, X_train, y_train, X_test, y_test):\n",
    "    predictor.fit(X_train, y_train)\n",
    "    predictions = predictor.predict(X_test)\n",
    "    return mean_squared_error(predictions, y_test, squared=False) # to return rmse and not mse\n",
    "\n",
    "\n",
    "for p in pipelines:\n",
    "    predictor = pipelines[p]\n",
    "    mae = get_rmse(predictor, X_train, y_train, X_test, y_test)\n",
    "    print(f\"Model: {p}\")\n",
    "    print(f'RMSE: {mae}')\n",
    "    print()\n"
   ]
  },
  {
   "cell_type": "markdown",
   "metadata": {},
   "source": [
    "## GridSearchCV parameters for models with small number of params"
   ]
  },
  {
   "cell_type": "code",
   "execution_count": 9,
   "metadata": {},
   "outputs": [],
   "source": [
    "param_grid_small_model = {}\n",
    "\n",
    "param_grid_small_model['ridge'] = {\n",
    "    'ridge__alpha': np.logspace(1.5, 1.8, num=11),\n",
    "    'ridge__tol': np.logspace(-6, -5, num=11)\n",
    "}\n",
    "\n",
    "param_grid_small_model['lasso'] = {\n",
    "    'lasso__alpha': np.logspace(-1, 1, num=11),\n",
    "    'lasso__max_iter': [1000],\n",
    "    'lasso__tol': np.logspace(-4, -3.5, num=2)\n",
    "}"
   ]
  },
  {
   "cell_type": "code",
   "execution_count": 10,
   "metadata": {},
   "outputs": [
    {
     "name": "stdout",
     "output_type": "stream",
     "text": [
      "Model name: ridge\n",
      "Best values: {'ridge__alpha': 31.622776601683793, 'ridge__tol': 1e-06}\n",
      "Best score MAE: -0.13869308083619108\n",
      "\n",
      "Model name: lasso\n",
      "Best values: {'lasso__alpha': 0.1, 'lasso__max_iter': 1000, 'lasso__tol': 0.00031622776601683794}\n",
      "Best score MAE: -0.22100018969344037\n",
      "\n"
     ]
    }
   ],
   "source": [
    "from sklearn.model_selection import GridSearchCV\n",
    "\n",
    "for model_name in param_grid_small_model:\n",
    "    print(f\"Model name: {model_name}\")\n",
    "    pipe = pipelines[model_name]\n",
    "    search = GridSearchCV(estimator=pipe, param_grid=param_grid_small_model[model_name], scoring='neg_root_mean_squared_error')\n",
    "    search.fit(train_data, y)\n",
    "    print(f'Best values: {search.best_params_}')\n",
    "    print(f'Best score MAE: {search.best_score_}')\n",
    "    print()"
   ]
  },
  {
   "cell_type": "markdown",
   "metadata": {},
   "source": [
    "## Grid search for models with many params"
   ]
  },
  {
   "cell_type": "code",
   "execution_count": 13,
   "metadata": {},
   "outputs": [],
   "source": [
    "consecutive_param_grids = {}\n",
    "consecutive_param_grids['xgboost'] = [ \n",
    "    {\n",
    "        'xgboost__max_depth':range(1,5),\n",
    "        'xgboost__min_child_weight':range(1,5,1), \n",
    "        'xgboost__eval_metric': ['rmse']\n",
    "    }, \n",
    "    {\n",
    "        'xgboost__gamma':[i/10.0 for i in range(0,2)]\n",
    "    },\n",
    "    {\n",
    "        'xgboost__subsample':[i/10.0 for i in range(6,11)],\n",
    "        'xgboost__colsample_bytree':[i/10.0 for i in range(2,9)]\n",
    "    }, \n",
    "    {\n",
    "        'xgboost__reg_alpha':[1e-7, 1e-6, 1e-5, 1e-4, 1e-3]\n",
    "    }\n",
    "]\n",
    "\n",
    "\n",
    "consecutive_param_grids['GBR'] = [\n",
    "    {\n",
    "        'GBR__n_estimators': range(100, 300, 30), \n",
    "        'GBR__subsample': [1],\n",
    "        'GBR__loss': ['squared_error'],\n",
    "        'GBR__random_state': [1]\n",
    "    }, \n",
    "    {\n",
    "        'GBR__max_depth': range(1,4), \n",
    "        'GBR__min_samples_split': range(8,20,2),\n",
    "    }\n",
    "]\n"
   ]
  },
  {
   "cell_type": "code",
   "execution_count": 18,
   "metadata": {},
   "outputs": [
    {
     "name": "stdout",
     "output_type": "stream",
     "text": [
      "xgboost\n",
      "{'xgboost__max_depth': range(1, 5), 'xgboost__min_child_weight': range(1, 5), 'xgboost__eval_metric': ['rmse']}\n",
      "Best settings on step 0: {'xgboost__eval_metric': ['rmse'], 'xgboost__max_depth': [2], 'xgboost__min_child_weight': [1]}\n",
      "RMSE: -0.1291500712230799\n",
      "{'xgboost__eval_metric': ['rmse'], 'xgboost__max_depth': [2], 'xgboost__min_child_weight': [1], 'xgboost__gamma': [0.0, 0.1]}\n",
      "Best settings on step 1: {'xgboost__eval_metric': ['rmse'], 'xgboost__max_depth': [2], 'xgboost__min_child_weight': [1], 'xgboost__gamma': [0.0]}\n",
      "RMSE: -0.1291500712230799\n",
      "{'xgboost__eval_metric': ['rmse'], 'xgboost__max_depth': [2], 'xgboost__min_child_weight': [1], 'xgboost__gamma': [0.0], 'xgboost__subsample': [0.6, 0.7, 0.8, 0.9, 1.0], 'xgboost__colsample_bytree': [0.2, 0.3, 0.4, 0.5, 0.6, 0.7, 0.8]}\n",
      "Best settings on step 2: {'xgboost__eval_metric': ['rmse'], 'xgboost__max_depth': [2], 'xgboost__min_child_weight': [1], 'xgboost__gamma': [0.0], 'xgboost__colsample_bytree': [0.6], 'xgboost__subsample': [0.8]}\n",
      "RMSE: -0.1291500712230799\n",
      "{'xgboost__eval_metric': ['rmse'], 'xgboost__max_depth': [2], 'xgboost__min_child_weight': [1], 'xgboost__gamma': [0.0], 'xgboost__colsample_bytree': [0.6], 'xgboost__subsample': [0.8], 'xgboost__reg_alpha': [1e-07, 1e-06, 1e-05, 0.0001, 0.001]}\n",
      "Best settings on step 3: {'xgboost__eval_metric': ['rmse'], 'xgboost__max_depth': [2], 'xgboost__min_child_weight': [1], 'xgboost__gamma': [0.0], 'xgboost__colsample_bytree': [0.6], 'xgboost__subsample': [0.8], 'xgboost__reg_alpha': [1e-07]}\n",
      "RMSE: -0.1291498982246709\n",
      "GBR\n",
      "{'GBR__n_estimators': range(100, 300, 30), 'GBR__subsample': [1], 'GBR__loss': ['squared_error'], 'GBR__random_state': [1]}\n",
      "Best settings on step 0: {'GBR__loss': ['squared_error'], 'GBR__n_estimators': [190], 'GBR__random_state': [1], 'GBR__subsample': [1]}\n",
      "RMSE: -0.12442730984269043\n",
      "{'GBR__loss': ['squared_error'], 'GBR__n_estimators': [190], 'GBR__random_state': [1], 'GBR__subsample': [1], 'GBR__max_depth': range(1, 4), 'GBR__min_samples_split': range(8, 20, 2)}\n",
      "Best settings on step 1: {'GBR__loss': ['squared_error'], 'GBR__n_estimators': [190], 'GBR__random_state': [1], 'GBR__subsample': [1], 'GBR__max_depth': [3], 'GBR__min_samples_split': [14]}\n",
      "RMSE: -0.12437165590214172\n"
     ]
    }
   ],
   "source": [
    "for pipe_name in consecutive_param_grids:\n",
    "    print(pipe_name)\n",
    "    pipe = pipelines[pipe_name]\n",
    "    n_steps = len(consecutive_param_grids[pipe_name])\n",
    "    best_params = {}\n",
    "    for step in range(n_steps):\n",
    "        # coarse step\n",
    "        sum_of_settings = {**best_params, **consecutive_param_grids[pipe_name][step]}\n",
    "        print(sum_of_settings)\n",
    "        coarse_search = GridSearchCV(pipe, param_grid=sum_of_settings, scoring='neg_root_mean_squared_error')\n",
    "        coarse_search.fit(train_data, y)\n",
    "        for param_name in coarse_search.best_params_:\n",
    "            best_params[param_name] = [coarse_search.best_params_[param_name]]\n",
    "        print(f'Best settings on step {step}: {best_params}')\n",
    "        print(f'RMSE: {coarse_search.best_score_}')\n"
   ]
  },
  {
   "cell_type": "code",
   "execution_count": 16,
   "metadata": {},
   "outputs": [
    {
     "name": "stdout",
     "output_type": "stream",
     "text": [
      "Model xgboost: RMSE 0.11546850816738524\n",
      "Model xgboost: MAE 0.08257986640152633\n",
      "Model GBR: RMSE 0.11654589767858496\n",
      "Model GBR: MAE 0.07806801643021383\n"
     ]
    }
   ],
   "source": [
    "final_best_params = {}\n",
    "\n",
    "final_best_params['xgboost'] = {\n",
    "    'xgboost__eval_metric': 'rmse', \n",
    "    'xgboost__max_depth': 2, \n",
    "    'xgboost__min_child_weight': 1, \n",
    "    'xgboost__gamma': 0.0, \n",
    "    'xgboost__colsample_bytree': 0.6, \n",
    "    'xgboost__subsample': 0.8, \n",
    "    'xgboost__reg_alpha': 0.0001\n",
    "}\n",
    "\n",
    "final_best_params['GBR'] = {\n",
    "    'GBR__loss': 'squared_error', \n",
    "    'GBR__n_estimators': 190, \n",
    "    'GBR__random_state': 1, \n",
    "    'GBR__subsample': 1, \n",
    "    'GBR__max_depth': 3, \n",
    "    'GBR__min_samples_split': 10\n",
    "\n",
    "}\n",
    "\n",
    "for pipe_name in final_best_params:\n",
    "    pipe = pipelines[pipe_name]\n",
    "    pipe = pipe.set_params(**final_best_params[pipe_name])\n",
    "    pipe.fit(X_train, y_train)\n",
    "    final_predictions = pipe.predict(X_test)\n",
    "\n",
    "    print(f'Model {pipe_name}: RMSE {mean_squared_error(y_test, final_predictions, squared=False)}')\n",
    "    print(f'Model {pipe_name}: MAE {mean_absolute_error(y_test, final_predictions)}')\n",
    "# for pipe_name in final_best_params:\n",
    "#     pipe = pipelines[pipe_name]\n",
    "#     pipe = pipe.set_params(**final_best_params[pipe_name])\n",
    "#     pipe.fit(train_data, y)\n",
    "#     final_predictions = np.exp(pipe.predict(test_data))\n",
    "\n",
    "#     output = pd.DataFrame({'Id': test_data.Id,\n",
    "#                         'SalePrice': final_predictions})\n",
    "#     output.to_csv(f'code/house-prices-competition/{pipe_name}_pipeline_rmse.csv', index=False)"
   ]
  },
  {
   "cell_type": "markdown",
   "metadata": {},
   "source": [
    "## Find actual eval metric"
   ]
  },
  {
   "cell_type": "code",
   "execution_count": 41,
   "metadata": {},
   "outputs": [],
   "source": [
    "output = pd.DataFrame({'Id': test_data.Id,\n",
    "                    'SalePrice': [0 for i in range(len(test_data['Id']))]})\n",
    "output.to_csv(f'code/house-prices-competition/null.csv', index=False)"
   ]
  },
  {
   "cell_type": "code",
   "execution_count": 40,
   "metadata": {},
   "outputs": [
    {
     "name": "stdout",
     "output_type": "stream",
     "text": [
      "Rmse: 197583.57145209657\n",
      "MAE: 180921.19589041095\n"
     ]
    }
   ],
   "source": [
    "predicted_rmse = (np.sum(np.exp(y)**2)/len(y))**0.5\n",
    "print(f'Rmse: {predicted_rmse}')\n",
    "\n",
    "predicted_mae = np.sum(np.exp(y))/len(y)\n",
    "print(f'MAE: {predicted_mae}')\n"
   ]
  },
  {
   "cell_type": "code",
   "execution_count": null,
   "metadata": {},
   "outputs": [],
   "source": []
  }
 ],
 "metadata": {
  "interpreter": {
   "hash": "18f423941bc9d114fae7f04d212a56739c178c1e988574dac5cc94b8a9db688c"
  },
  "kernelspec": {
   "display_name": "Python 3.9.7",
   "language": "python",
   "name": "python3"
  },
  "language_info": {
   "codemirror_mode": {
    "name": "ipython",
    "version": 3
   },
   "file_extension": ".py",
   "mimetype": "text/x-python",
   "name": "python",
   "nbconvert_exporter": "python",
   "pygments_lexer": "ipython3",
   "version": "3.9.7"
  },
  "orig_nbformat": 4
 },
 "nbformat": 4,
 "nbformat_minor": 2
}
