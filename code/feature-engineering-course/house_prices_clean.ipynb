{
 "cells": [
  {
   "cell_type": "markdown",
   "metadata": {},
   "source": [
    "# Competition where metric is rmse of log of prices\n",
    "[Competition](https://www.kaggle.com/c/house-prices-advanced-regression-techniques/data?select=train.csv)"
   ]
  },
  {
   "cell_type": "code",
   "execution_count": 70,
   "metadata": {},
   "outputs": [],
   "source": [
    "# Set up code checking\n",
    "# Set up filepaths\n",
    "import os\n",
    "os.chdir(os.path.join(os.path.expanduser('~'), 'kaggle'))"
   ]
  },
  {
   "cell_type": "code",
   "execution_count": 71,
   "metadata": {},
   "outputs": [],
   "source": [
    "import numpy as np\n",
    "import pandas as pd\n",
    "import matplotlib.pyplot as plt"
   ]
  },
  {
   "cell_type": "markdown",
   "metadata": {},
   "source": [
    "# 1. Load data into dataframes"
   ]
  },
  {
   "cell_type": "code",
   "execution_count": 72,
   "metadata": {},
   "outputs": [],
   "source": [
    "train_path = os.path.join('data', 'house-prices-advanced-regression', 'train.csv')\n",
    "train_data = pd.read_csv(train_path)\n",
    "\n",
    "test_path = os.path.join('data', 'house-prices-advanced-regression', 'test.csv')\n",
    "test_data_original = pd.read_csv(test_path)"
   ]
  },
  {
   "cell_type": "markdown",
   "metadata": {},
   "source": [
    "## 1.1 Identify numeric and categorical features "
   ]
  },
  {
   "cell_type": "code",
   "execution_count": 73,
   "metadata": {},
   "outputs": [
    {
     "name": "stdout",
     "output_type": "stream",
     "text": [
      "(1460, 78) (1459, 78)\n"
     ]
    }
   ],
   "source": [
    "y = np.log(train_data['SalePrice'])\n",
    "train_data.drop(columns=['SalePrice', 'Id'], inplace=True)\n",
    "test_data = test_data_original.drop(columns=['Id'])\n",
    "\n",
    "# remove stupid columns\n",
    "train_data.drop(columns=['LowQualFinSF'], inplace=True)\n",
    "test_data.drop(columns=['LowQualFinSF'], inplace=True)\n",
    "\n",
    "numerical_columns = train_data.select_dtypes(include=np.number).columns.tolist()\n",
    "\n",
    "numerical_columns.remove('MSSubClass')\n",
    "\n",
    "categorical_columns = [c for c in train_data.columns if c not in numerical_columns]\n",
    "\n",
    "print(train_data.shape, test_data.shape)"
   ]
  },
  {
   "cell_type": "markdown",
   "metadata": {},
   "source": [
    "# 2. EDA"
   ]
  },
  {
   "cell_type": "markdown",
   "metadata": {},
   "source": [
    "## 2.1 Create imputation pipeline, factorize categoric features "
   ]
  },
  {
   "cell_type": "code",
   "execution_count": 74,
   "metadata": {},
   "outputs": [],
   "source": [
    "from sklearn.base import BaseEstimator, TransformerMixin\n",
    "from sklearn.preprocessing import OneHotEncoder, StandardScaler, PowerTransformer, OrdinalEncoder \n",
    "from category_encoders import TargetEncoder \n",
    "from sklearn.impute import SimpleImputer\n",
    "from sklearn.pipeline import Pipeline\n",
    "from sklearn.compose import ColumnTransformer\n",
    "\n",
    "# class AddMissingIndicator(BaseEstimator, TransformerMixin):\n",
    "#     def __init__(self):\n",
    "#         self.num_cols_with_na = [] \n",
    "\n",
    "#     def fit(self, X, y=None):\n",
    "#         df = pd.DataFrame(X)\n",
    "#         self.num_cols_with_na = [c for c in df.columns if df[c].isna().any()]\n",
    "#         return self\n",
    "    \n",
    "#     def transform(self, X, y=None) -> pd.DataFrame:\n",
    "#         df_to_transform = pd.DataFrame(X)\n",
    "#         for c in self.num_cols_with_na:\n",
    "#             missing_col_name = f\"{c}_is_missing\"\n",
    "#             df_to_transform[missing_col_name] = np.where(X[c].isna(), 1, 0) \n",
    "        \n",
    "#         return df_to_transform \n",
    "\n",
    "\n",
    "numeric_imputer = Pipeline(steps=[\n",
    "    ('imputer', SimpleImputer(strategy='mean')), \n",
    "])\n",
    "\n",
    "categoric_imputer = Pipeline(steps=[\n",
    "    ('imputer', SimpleImputer(strategy='constant', fill_value='Missing')), \n",
    "    ('label_encoder', OrdinalEncoder(categories='auto', handle_unknown='use_encoded_value', unknown_value=np.nan)),\n",
    "])\n",
    "\n",
    "# fills all missing values, but does not transform the data\n",
    "imputing_transformer = ColumnTransformer(transformers=[\n",
    "    ('numeric_imputer', numeric_imputer, numerical_columns),\n",
    "    ('categoric_imputer', categoric_imputer, categorical_columns)\n",
    "])\n",
    "\n",
    "train_data_imputed = pd.DataFrame(\n",
    "    imputing_transformer.fit_transform(train_data), \n",
    "    columns=numerical_columns + categorical_columns\n",
    ")\n"
   ]
  },
  {
   "cell_type": "markdown",
   "metadata": {},
   "source": [
    "## 2.2 Create new features "
   ]
  },
  {
   "cell_type": "code",
   "execution_count": 75,
   "metadata": {},
   "outputs": [
    {
     "name": "stdout",
     "output_type": "stream",
     "text": [
      "['LotFrontage', 'LotArea', 'OverallQual', 'OverallCond', 'YearBuilt', 'YearRemodAdd', 'MasVnrArea', 'BsmtFinSF1', 'BsmtFinSF2', 'BsmtUnfSF', 'TotalBsmtSF', '1stFlrSF', '2ndFlrSF', 'GrLivArea', 'BsmtFullBath', 'BsmtHalfBath', 'FullBath', 'HalfBath', 'BedroomAbvGr', 'KitchenAbvGr', 'TotRmsAbvGrd', 'Fireplaces', 'GarageYrBlt', 'GarageCars', 'GarageArea', 'WoodDeckSF', 'OpenPorchSF', 'EnclosedPorch', '3SsnPorch', 'ScreenPorch', 'PoolArea', 'MiscVal', 'MoSold', 'YrSold', 'MSSubClass', 'MSZoning', 'Street', 'Alley', 'LotShape', 'LandContour', 'Utilities', 'LotConfig', 'LandSlope', 'Neighborhood', 'Condition1', 'Condition2', 'BldgType', 'HouseStyle', 'RoofStyle', 'RoofMatl', 'Exterior1st', 'Exterior2nd', 'MasVnrType', 'ExterQual', 'ExterCond', 'Foundation', 'BsmtQual', 'BsmtCond', 'BsmtExposure', 'BsmtFinType1', 'BsmtFinType2', 'Heating', 'HeatingQC', 'CentralAir', 'Electrical', 'KitchenQual', 'Functional', 'FireplaceQu', 'GarageType', 'GarageFinish', 'GarageQual', 'GarageCond', 'PavedDrive', 'PoolQC', 'Fence', 'MiscFeature', 'SaleType', 'SaleCondition', 'LivingArea', 'AreaPerRoom', 'OutsideArea', 'LivLotRatio']\n"
     ]
    }
   ],
   "source": [
    "# total area of house\n",
    "\n",
    "train_data_imputed[\"LivingArea\"] = train_data_imputed['1stFlrSF'] + train_data_imputed['2ndFlrSF'] \n",
    "\n",
    "# area per room, more is better\n",
    "train_data_imputed[\"AreaPerRoom\"] = train_data_imputed['LivingArea']/train_data_imputed['TotRmsAbvGrd']\n",
    "\n",
    "train_data_imputed['OutsideArea'] = sum(train_data_imputed[i] for i in [\n",
    "    'WoodDeckSF', \n",
    "    'OpenPorchSF', \n",
    "    'EnclosedPorch',\n",
    "    '3SsnPorch',\n",
    "    'ScreenPorch'\n",
    "])\n",
    "\n",
    "# ratio of area of house to area of the whole lot\n",
    "train_data_imputed['LivLotRatio'] = train_data_imputed['LivingArea']/train_data_imputed['LotArea']\n",
    "\n",
    "# update numeric columns to include the newly created features\n",
    "numerical_columns = train_data_imputed.select_dtypes(include=np.number).columns.tolist()\n",
    "print(numerical_columns)\n",
    "\n"
   ]
  },
  {
   "cell_type": "markdown",
   "metadata": {},
   "source": [
    "## 2.3 Mutual info with target"
   ]
  },
  {
   "cell_type": "code",
   "execution_count": 76,
   "metadata": {},
   "outputs": [
    {
     "data": {
      "image/png": "[encoded data removed]",
      "text/plain": [
       "<Figure size 800x2000 with 1 Axes>"
      ]
     },
     "metadata": {
      "needs_background": "light"
     },
     "output_type": "display_data"
    }
   ],
   "source": [
    "from sklearn.feature_selection import mutual_info_regression\n",
    "\n",
    "discrete_features = [\n",
    "    i for (i, c) in enumerate(train_data_imputed.columns) if c in categorical_columns\n",
    "]\n",
    "mi_scores = mutual_info_regression(train_data_imputed, y, discrete_features=discrete_features)\n",
    "\n",
    "mi_scores = pd.Series(mi_scores, index=train_data_imputed.columns)\n",
    "mi_scores = mi_scores.sort_values(ascending=True)\n",
    "\n",
    "# plot mi scores\n",
    "y_pos = np.arange(len(train_data_imputed.columns))\n",
    "\n",
    "plt.figure(dpi=100, figsize=(8, 20))\n",
    "plt.barh(y_pos, mi_scores)\n",
    "plt.yticks(y_pos, labels=mi_scores.index)\n",
    "plt.xticks(np.arange(min(mi_scores), max(mi_scores)*1.1, 0.1))\n",
    "plt.grid()\n",
    "plt.show()\n"
   ]
  },
  {
   "cell_type": "markdown",
   "metadata": {},
   "source": [
    "## 2.4 Identify columns with roughly gaussian distributions "
   ]
  },
  {
   "cell_type": "code",
   "execution_count": 77,
   "metadata": {},
   "outputs": [],
   "source": [
    "# fig = train_data_imputed.hist(column=numerical_columns, figsize=(20, 20), rwidth=0.9)\n",
    "\n",
    "gaussable_columns = [\n",
    "    'LotFrontage',\n",
    "    'OverallQual',\n",
    "    'OverallCond',\n",
    "    'TotalBsmtSF',\n",
    "    '1stFlrSF', \n",
    "    '2ndFlrSF', \n",
    "    'GrLivArea',\n",
    "    'BedroomAbvGr',\n",
    "    'TotRmsAbvGrd',\n",
    "    'GarageArea', \n",
    "    'LivingArea', \n",
    "    'AreaPerRoom',\n",
    "    'OutsideArea',\n",
    "    'LivLotRatio'\n",
    "]"
   ]
  },
  {
   "cell_type": "markdown",
   "metadata": {},
   "source": [
    "# 3. Transform dataset to prepare it for the models"
   ]
  },
  {
   "cell_type": "markdown",
   "metadata": {},
   "source": [
    "## 3.1 Create smaller pipelines for preprocessing "
   ]
  },
  {
   "cell_type": "code",
   "execution_count": 78,
   "metadata": {},
   "outputs": [],
   "source": [
    "from category_encoders import TargetEncoder\n",
    "# adds additional column which indicates whether data was missing for given feature\n",
    "\n",
    "# for categorical columns with high cardinality\n",
    "target_cat_pipeline = Pipeline([\n",
    "    ('imputer', SimpleImputer(strategy='constant', fill_value=np.nan)), # categories are encoded as nums\n",
    "    ('target_encoding', TargetEncoder()) \n",
    "])\n",
    "\n",
    "# for cat columns with low cardinality \n",
    "ohe_cat_pipeline = Pipeline([\n",
    "    ('imputer', SimpleImputer(strategy='constant', fill_value=np.nan)), \n",
    "    ('OHE', OneHotEncoder(sparse=False, handle_unknown='ignore'))\n",
    "])\n",
    "\n",
    "# small cardinality columns get OHE, large get target encoding\n",
    "small_cardinality_cat_columns = [c for c in categorical_columns if len(set(train_data[c])) < 5]\n",
    "\n",
    "large_cardinality_cat_columns = [c for c in categorical_columns if c not in small_cardinality_cat_columns]\n",
    "\n",
    "normal_numeric_columns = [c for c in numerical_columns if c not in gaussable_columns]\n",
    "\n",
    "standard_num_pipeline = Pipeline(steps=[\n",
    "    ('imputer', SimpleImputer(strategy='median')), \n",
    "    ('scaler', StandardScaler())\n",
    "])\n",
    "\n",
    "gauss_num_pipeline = Pipeline(steps=[\n",
    "    ('imputer', SimpleImputer(strategy='median')), \n",
    "    ('power_scaler', PowerTransformer())\n",
    "])\n",
    "\n",
    "preprocessing = ColumnTransformer(transformers=[\n",
    "    ('normal_numerical', standard_num_pipeline, normal_numeric_columns),\n",
    "    ('gauss_numerical', gauss_num_pipeline, gaussable_columns),\n",
    "    ('target_categorical', target_cat_pipeline, large_cardinality_cat_columns), \n",
    "    ('OHE_categorical', ohe_cat_pipeline, small_cardinality_cat_columns), \n",
    "])"
   ]
  },
  {
   "cell_type": "markdown",
   "metadata": {},
   "source": [
    "## 3.2 Test different regression models"
   ]
  },
  {
   "cell_type": "code",
   "execution_count": 86,
   "metadata": {},
   "outputs": [
    {
     "name": "stdout",
     "output_type": "stream",
     "text": [
      "Model: ridge\n",
      "RMSE: 0.13862424034222778\n",
      "\n",
      "Model: lasso\n",
      "RMSE: 0.3992282792085989\n",
      "\n",
      "Model: xgboost\n",
      "RMSE: 0.14452206609613433\n",
      "\n",
      "Model: lgbm\n",
      "RMSE: 0.1342138976865473\n",
      "\n",
      "Model: cat_boost\n",
      "RMSE: 0.12097951716173219\n",
      "\n",
      "Model: b_ridge\n",
      "RMSE: 0.13950290630927148\n",
      "\n",
      "Model: hist_gbr\n",
      "RMSE: 0.134087274107066\n",
      "\n"
     ]
    }
   ],
   "source": [
    "from sklearn.linear_model import Lasso, Ridge, BayesianRidge\n",
    "from lightgbm import LGBMRegressor\n",
    "from xgboost import XGBRegressor\n",
    "from sklearn.ensemble import GradientBoostingRegressor, HistGradientBoostingRegressor\n",
    "from catboost import CatBoostRegressor\n",
    "from sklearn.model_selection import cross_val_score\n",
    "\n",
    "\n",
    "models = {\n",
    "    'ridge': Ridge(),\n",
    "    'lasso': Lasso(random_state=1),\n",
    "    'xgboost': XGBRegressor(random_state=1, eval_metric='rmse'),\n",
    "    # 'GBR': GradientBoostingRegressor(loss='squared_error', random_state=1),\n",
    "    'lgbm': LGBMRegressor(), \n",
    "    'cat_boost': CatBoostRegressor(silent=True), \n",
    "    'b_ridge': BayesianRidge(), \n",
    "    'hist_gbr': HistGradientBoostingRegressor()\n",
    "}\n",
    "\n",
    "pipelines = {key: Pipeline(steps=[\n",
    "    ('preprocessing', preprocessing),\n",
    "    (f'{key}', models[key])\n",
    "]) for key in models}\n",
    "\n",
    "# models['cat_boost'] = CatBoostRegressor(silent=True)\n",
    "\n",
    "# pipelines['cat_boost'] = Pipeline(steps=[\n",
    "#     ('preprocessing_no_ohe', preprocessing_no_ohe), \n",
    "#     ('cat_boost', models['cat_boost'])\n",
    "# ])\n",
    "\n",
    "def get_rmse(predictor, X, y):\n",
    "    return -cross_val_score(predictor, X, y, scoring='neg_root_mean_squared_error', cv=5).mean()\n",
    "\n",
    "\n",
    "for p in pipelines:\n",
    "    predictor = pipelines[p]\n",
    "    mae = get_rmse(predictor, train_data_imputed, y)\n",
    "    print(f\"Model: {p}\")\n",
    "    print(f'RMSE: {mae}')\n",
    "    print()\n"
   ]
  },
  {
   "cell_type": "markdown",
   "metadata": {},
   "source": [
    "## 3.3 Define param tuning functions \n"
   ]
  },
  {
   "cell_type": "code",
   "execution_count": 94,
   "metadata": {},
   "outputs": [],
   "source": [
    "import optuna\n",
    "from copy import deepcopy\n",
    "\n",
    "optuna.logging.set_verbosity(0)\n",
    "\n",
    "def ridge_cost(trial):\n",
    "    alpha = trial.suggest_loguniform('ridge__alpha', 10, 100)\n",
    "    tol = trial.suggest_loguniform('ridge__tol', 1e-7, 1e-4)\n",
    "    pipe = deepcopy(pipelines['ridge'])\n",
    "    pipe.set_params(**{\n",
    "        'ridge__alpha': alpha, \n",
    "        'ridge__tol': tol\n",
    "    })\n",
    "    return get_rmse(pipe, train_data_imputed, y)\n",
    "\n",
    "def lasso_cost(trial):\n",
    "    alpha = trial.suggest_loguniform('lasso__alpha', 1e-4, 1)\n",
    "    tol = trial.suggest_loguniform('lasso__tol', 1e-5, 1e-3)\n",
    "    pipe = deepcopy(pipelines['lasso'])\n",
    "    pipe.set_params(**{\n",
    "        'lasso__alpha': alpha, \n",
    "        # 'lasso__tol': tol\n",
    "    })\n",
    "    return get_rmse(pipe, train_data_imputed, y)"
   ]
  },
  {
   "cell_type": "code",
   "execution_count": 95,
   "metadata": {},
   "outputs": [],
   "source": [
    "from optuna.integration import LightGBMPruningCallback\n",
    "\n",
    "def xgboost_cost(trial: optuna.trial.Trial):\n",
    "    pipe = deepcopy(pipelines['xgboost'])\n",
    "\n",
    "    pipe.set_params(**{\n",
    "        'xgboost__max_depth': trial.suggest_int('max_depth', 1, 4), \n",
    "        'xgboost__min_child_weight': trial.suggest_int('min_cw', 0, 10), \n",
    "        'xgboost__colsample_bytree': trial.suggest_float('cs_bt', 0, 1),\n",
    "        'xgboost__n_estimators': trial.suggest_int('n_est', 50, 800), \n",
    "        'xgboost__reg_lambda': trial.suggest_float('reg_lambda', 0, 1),\n",
    "        'xgboost__subsample': trial.suggest_float('subsample', 0, 1), \n",
    "        'xgboost__reg_alpha': trial.suggest_float('alpha', 0, 1),\n",
    "        'xgboost__eval_metric': 'rmse'\n",
    "    })\n",
    "\n",
    "    return get_rmse(pipe, train_data_imputed, y)\n"
   ]
  },
  {
   "cell_type": "code",
   "execution_count": 96,
   "metadata": {},
   "outputs": [],
   "source": [
    "# def lgbm_cost(trial: optuna.trial.Trial):\n",
    "#     pipe = deepcopy(pipelines['lgbm'])\n",
    "#     pipe.set_params(**{\n",
    "#         # \"lgbm__num_iterations\": trial.suggest_int('num_iterations', 50, 300),\n",
    "#         \"lgbm__learning_rate\": trial.suggest_float(\"learning_rate\", 0.01, 0.3),\n",
    "#         \"lgbm__num_leaves\": trial.suggest_int(\"num_leaves\", 20, 300),\n",
    "#         # \"lgbm__max_depth\": trial.suggest_int(\"max_depth\", 3, 12),\n",
    "#         \"lgbm__min_data_in_leaf\": trial.suggest_int(\"min_data_in_leaf\", 1, 10),\n",
    "#         # \"lgbm__max_bin\": trial.suggest_int(\"max_bin\", 200, 300),\n",
    "#         # \"lgbm__lambda_l1\": trial.suggest_int(\"lambda_l1\", 0, 100, step=5),\n",
    "#         # \"lgbm__lambda_l2\": trial.suggest_int(\"lambda_l2\", 0, 100, step=5),\n",
    "#         \"lgbm__min_gain_to_split\": trial.suggest_float(\"min_gain_to_split\", 0, 15),\n",
    "#         # \"lgbm__bagging_fraction\": trial.suggest_float(\n",
    "#         #     \"bagging_fraction\", 0.2, 0.95\n",
    "#         # ),\n",
    "#         # \"lgbm__bagging_freq\": trial.suggest_categorical(\"bagging_freq\", [1]),\n",
    "#         # \"lgbm__feature_fraction\": trial.suggest_float(\n",
    "#         #     \"feature_fraction\", 0.5, 0.95\n",
    "#         # ),\n",
    "#         'lgbm__early_stopping_rounds': 100,\n",
    "#         # 'lgbm__callbacks': [LightGBMPruningCallback(trial, 'rmse')]\n",
    "#     })\n",
    "\n",
    "#     return get_rmse(pipe, train_data, y)"
   ]
  },
  {
   "cell_type": "code",
   "execution_count": 97,
   "metadata": {},
   "outputs": [],
   "source": [
    "def catboost_cost(trial: optuna.trial.Trial):\n",
    "    pipe = deepcopy(pipelines['cat_boost'])\n",
    "    pipe.set_params(**{\n",
    "        \"cat_boost__colsample_bylevel\": trial.suggest_float(\"colsample_bylevel\", 0.01, 0.1, log=True),\n",
    "        \"cat_boost__depth\": trial.suggest_int(\"depth\", 4, 10),\n",
    "        \"cat_boost__boosting_type\": trial.suggest_categorical(\"boosting_type\", [\"Ordered\", \"Plain\"]),\n",
    "        \"cat_boost__bootstrap_type\": trial.suggest_categorical(\n",
    "            \"bootstrap_type\", [\"Bayesian\", \"Bernoulli\", \"MVS\"]\n",
    "        ),\n",
    "        \"cat_boost__eval_metric\": \"RMSE\",\n",
    "    })\n",
    "\n",
    "    return get_rmse(pipe, train_data_imputed, y)"
   ]
  },
  {
   "cell_type": "code",
   "execution_count": 98,
   "metadata": {},
   "outputs": [],
   "source": [
    "def b_ridge_cost(trial: optuna.trial.Trial):\n",
    "    pipe = deepcopy(pipelines['b_ridge'])\n",
    "    pipe.set_params(**{\n",
    "        'b_ridge__n_iter': trial.suggest_int('n_iter', 100, 1000, log=True), \n",
    "        'b_ridge__alpha_1': trial.suggest_float('alpha1', 1e-9, 1e-3, log=True),\n",
    "        'b_ridge__alpha_2': trial.suggest_float('alpha2', 1e-9, 1e-3, log=True),\n",
    "    })\n",
    "\n",
    "    return get_rmse(pipe, train_data_imputed, y)"
   ]
  },
  {
   "cell_type": "code",
   "execution_count": 99,
   "metadata": {},
   "outputs": [],
   "source": [
    "def hist_gbr_cost(trial: optuna.trial.Trial):\n",
    "    pipe = deepcopy(pipelines['hist_gbr'])\n",
    "    pipe.set_params(**{\n",
    "        'hist_gbr__max_iter': trial.suggest_int('max_iter', 50, 500),\n",
    "        'hist_gbr__max_leaf_nodes': trial.suggest_int('max_leaf_nodes', 5, 50), \n",
    "    })\n",
    "    return get_rmse(pipe, train_data_imputed, y)"
   ]
  },
  {
   "cell_type": "code",
   "execution_count": 100,
   "metadata": {},
   "outputs": [
    {
     "name": "stderr",
     "output_type": "stream",
     "text": [
      "/home/vasil/earth-analytics-parent/earth-analytics/conda-env/lib/python3.9/site-packages/optuna/progress_bar.py:47: ExperimentalWarning: Progress bar is experimental (supported from v1.2.0). The interface can change in the future.\n",
      "  self._init_valid()\n",
      "100%|██████████| 30/30 [00:14<00:00,  2.06it/s]\n"
     ]
    },
    {
     "name": "stdout",
     "output_type": "stream",
     "text": [
      "Model ridge\n",
      "Best params: {'ridge__alpha': 98.26018660797482, 'ridge__tol': 9.788680346975573e-06}\n",
      "Best score: 0.13922412362025588\n"
     ]
    },
    {
     "name": "stderr",
     "output_type": "stream",
     "text": [
      "/home/vasil/earth-analytics-parent/earth-analytics/conda-env/lib/python3.9/site-packages/optuna/progress_bar.py:47: ExperimentalWarning: Progress bar is experimental (supported from v1.2.0). The interface can change in the future.\n",
      "  self._init_valid()\n"
     ]
    },
    {
     "name": "stdout",
     "output_type": "stream",
     "text": [
      "OrderedDict([('ridge__alpha', 0.9994798019241887), ('ridge__tol', 0.0005201980758112294)]) \n",
      "\n"
     ]
    },
    {
     "name": "stderr",
     "output_type": "stream",
     "text": [
      " 33%|███▎      | 10/30 [00:06<00:12,  1.60it/s]/home/vasil/earth-analytics-parent/earth-analytics/conda-env/lib/python3.9/site-packages/sklearn/linear_model/_coordinate_descent.py:647: ConvergenceWarning: Objective did not converge. You might want to increase the number of iterations, check the scale of the features or consider increasing regularisation. Duality gap: 2.573e+00, tolerance: 1.891e-02\n",
      "  model = cd_fast.enet_coordinate_descent(\n",
      "/home/vasil/earth-analytics-parent/earth-analytics/conda-env/lib/python3.9/site-packages/sklearn/linear_model/_coordinate_descent.py:647: ConvergenceWarning: Objective did not converge. You might want to increase the number of iterations, check the scale of the features or consider increasing regularisation. Duality gap: 3.487e+00, tolerance: 1.800e-02\n",
      "  model = cd_fast.enet_coordinate_descent(\n",
      "/home/vasil/earth-analytics-parent/earth-analytics/conda-env/lib/python3.9/site-packages/sklearn/linear_model/_coordinate_descent.py:647: ConvergenceWarning: Objective did not converge. You might want to increase the number of iterations, check the scale of the features or consider increasing regularisation. Duality gap: 4.329e+00, tolerance: 1.837e-02\n",
      "  model = cd_fast.enet_coordinate_descent(\n",
      "/home/vasil/earth-analytics-parent/earth-analytics/conda-env/lib/python3.9/site-packages/sklearn/linear_model/_coordinate_descent.py:647: ConvergenceWarning: Objective did not converge. You might want to increase the number of iterations, check the scale of the features or consider increasing regularisation. Duality gap: 2.678e+00, tolerance: 1.901e-02\n",
      "  model = cd_fast.enet_coordinate_descent(\n",
      "/home/vasil/earth-analytics-parent/earth-analytics/conda-env/lib/python3.9/site-packages/sklearn/linear_model/_coordinate_descent.py:647: ConvergenceWarning: Objective did not converge. You might want to increase the number of iterations, check the scale of the features or consider increasing regularisation. Duality gap: 1.836e+00, tolerance: 1.881e-02\n",
      "  model = cd_fast.enet_coordinate_descent(\n",
      " 43%|████▎     | 13/30 [00:08<00:10,  1.62it/s]/home/vasil/earth-analytics-parent/earth-analytics/conda-env/lib/python3.9/site-packages/sklearn/linear_model/_coordinate_descent.py:647: ConvergenceWarning: Objective did not converge. You might want to increase the number of iterations, check the scale of the features or consider increasing regularisation. Duality gap: 1.983e+00, tolerance: 1.891e-02\n",
      "  model = cd_fast.enet_coordinate_descent(\n",
      "/home/vasil/earth-analytics-parent/earth-analytics/conda-env/lib/python3.9/site-packages/sklearn/linear_model/_coordinate_descent.py:647: ConvergenceWarning: Objective did not converge. You might want to increase the number of iterations, check the scale of the features or consider increasing regularisation. Duality gap: 1.782e+00, tolerance: 1.800e-02\n",
      "  model = cd_fast.enet_coordinate_descent(\n",
      "/home/vasil/earth-analytics-parent/earth-analytics/conda-env/lib/python3.9/site-packages/sklearn/linear_model/_coordinate_descent.py:647: ConvergenceWarning: Objective did not converge. You might want to increase the number of iterations, check the scale of the features or consider increasing regularisation. Duality gap: 1.877e+00, tolerance: 1.837e-02\n",
      "  model = cd_fast.enet_coordinate_descent(\n",
      "/home/vasil/earth-analytics-parent/earth-analytics/conda-env/lib/python3.9/site-packages/sklearn/linear_model/_coordinate_descent.py:647: ConvergenceWarning: Objective did not converge. You might want to increase the number of iterations, check the scale of the features or consider increasing regularisation. Duality gap: 6.939e-01, tolerance: 1.901e-02\n",
      "  model = cd_fast.enet_coordinate_descent(\n",
      "/home/vasil/earth-analytics-parent/earth-analytics/conda-env/lib/python3.9/site-packages/sklearn/linear_model/_coordinate_descent.py:647: ConvergenceWarning: Objective did not converge. You might want to increase the number of iterations, check the scale of the features or consider increasing regularisation. Duality gap: 3.886e-02, tolerance: 1.881e-02\n",
      "  model = cd_fast.enet_coordinate_descent(\n",
      " 47%|████▋     | 14/30 [00:09<00:11,  1.40it/s]/home/vasil/earth-analytics-parent/earth-analytics/conda-env/lib/python3.9/site-packages/sklearn/linear_model/_coordinate_descent.py:647: ConvergenceWarning: Objective did not converge. You might want to increase the number of iterations, check the scale of the features or consider increasing regularisation. Duality gap: 2.680e-02, tolerance: 1.800e-02\n",
      "  model = cd_fast.enet_coordinate_descent(\n",
      "/home/vasil/earth-analytics-parent/earth-analytics/conda-env/lib/python3.9/site-packages/sklearn/linear_model/_coordinate_descent.py:647: ConvergenceWarning: Objective did not converge. You might want to increase the number of iterations, check the scale of the features or consider increasing regularisation. Duality gap: 1.995e-02, tolerance: 1.901e-02\n",
      "  model = cd_fast.enet_coordinate_descent(\n",
      "/home/vasil/earth-analytics-parent/earth-analytics/conda-env/lib/python3.9/site-packages/sklearn/linear_model/_coordinate_descent.py:647: ConvergenceWarning: Objective did not converge. You might want to increase the number of iterations, check the scale of the features or consider increasing regularisation. Duality gap: 2.105e-02, tolerance: 1.881e-02\n",
      "  model = cd_fast.enet_coordinate_descent(\n",
      " 57%|█████▋    | 17/30 [00:11<00:09,  1.37it/s]/home/vasil/earth-analytics-parent/earth-analytics/conda-env/lib/python3.9/site-packages/sklearn/linear_model/_coordinate_descent.py:647: ConvergenceWarning: Objective did not converge. You might want to increase the number of iterations, check the scale of the features or consider increasing regularisation. Duality gap: 2.671e-02, tolerance: 1.800e-02\n",
      "  model = cd_fast.enet_coordinate_descent(\n",
      "/home/vasil/earth-analytics-parent/earth-analytics/conda-env/lib/python3.9/site-packages/sklearn/linear_model/_coordinate_descent.py:647: ConvergenceWarning: Objective did not converge. You might want to increase the number of iterations, check the scale of the features or consider increasing regularisation. Duality gap: 1.974e-02, tolerance: 1.901e-02\n",
      "  model = cd_fast.enet_coordinate_descent(\n",
      "/home/vasil/earth-analytics-parent/earth-analytics/conda-env/lib/python3.9/site-packages/sklearn/linear_model/_coordinate_descent.py:647: ConvergenceWarning: Objective did not converge. You might want to increase the number of iterations, check the scale of the features or consider increasing regularisation. Duality gap: 2.082e-02, tolerance: 1.881e-02\n",
      "  model = cd_fast.enet_coordinate_descent(\n",
      " 83%|████████▎ | 25/30 [00:17<00:04,  1.23it/s]/home/vasil/earth-analytics-parent/earth-analytics/conda-env/lib/python3.9/site-packages/sklearn/linear_model/_coordinate_descent.py:647: ConvergenceWarning: Objective did not converge. You might want to increase the number of iterations, check the scale of the features or consider increasing regularisation. Duality gap: 2.727e-02, tolerance: 1.901e-02\n",
      "  model = cd_fast.enet_coordinate_descent(\n",
      "100%|██████████| 30/30 [00:20<00:00,  1.45it/s]\n"
     ]
    },
    {
     "name": "stdout",
     "output_type": "stream",
     "text": [
      "Model lasso\n",
      "Best params: {'lasso__alpha': 0.002748900873511109, 'lasso__tol': 9.974354348090254e-05}\n",
      "Best score: 0.1379527010310997\n"
     ]
    },
    {
     "name": "stderr",
     "output_type": "stream",
     "text": [
      "/home/vasil/earth-analytics-parent/earth-analytics/conda-env/lib/python3.9/site-packages/optuna/progress_bar.py:47: ExperimentalWarning: Progress bar is experimental (supported from v1.2.0). The interface can change in the future.\n",
      "  self._init_valid()\n"
     ]
    },
    {
     "name": "stdout",
     "output_type": "stream",
     "text": [
      "OrderedDict([('lasso__alpha', 0.7422827376462711), ('lasso__tol', 0.25771726235372894)]) \n",
      "\n"
     ]
    },
    {
     "name": "stderr",
     "output_type": "stream",
     "text": [
      "100%|██████████| 30/30 [03:01<00:00,  6.05s/it]\n"
     ]
    },
    {
     "name": "stdout",
     "output_type": "stream",
     "text": [
      "Model xgboost\n",
      "Best params: {'max_depth': 2, 'min_cw': 1, 'cs_bt': 0.30032723879729, 'n_est': 739, 'reg_lambda': 0.4395478592115192, 'subsample': 0.9343021941520818, 'alpha': 0.7979573279152375}\n",
      "Best score: 0.12522569351001409\n"
     ]
    },
    {
     "name": "stderr",
     "output_type": "stream",
     "text": [
      "/home/vasil/earth-analytics-parent/earth-analytics/conda-env/lib/python3.9/site-packages/optuna/progress_bar.py:47: ExperimentalWarning: Progress bar is experimental (supported from v1.2.0). The interface can change in the future.\n",
      "  self._init_valid()\n"
     ]
    },
    {
     "name": "stdout",
     "output_type": "stream",
     "text": [
      "OrderedDict([('subsample', 0.6844646108370026), ('reg_lambda', 0.14698905603177012), ('alpha', 0.07359215643917182), ('n_est', 0.05246029069812684), ('max_depth', 0.020584170831647153), ('min_cw', 0.017176405079243486), ('cs_bt', 0.004733310083037989)]) \n",
      "\n"
     ]
    },
    {
     "name": "stderr",
     "output_type": "stream",
     "text": [
      "100%|██████████| 30/30 [05:14<00:00, 10.48s/it]\n"
     ]
    },
    {
     "name": "stdout",
     "output_type": "stream",
     "text": [
      "Model cat_boost\n",
      "Best params: {'colsample_bylevel': 0.0763157049902472, 'depth': 5, 'boosting_type': 'Plain', 'bootstrap_type': 'Bayesian'}\n",
      "Best score: 0.12044094941119936\n"
     ]
    },
    {
     "name": "stderr",
     "output_type": "stream",
     "text": [
      "/home/vasil/earth-analytics-parent/earth-analytics/conda-env/lib/python3.9/site-packages/optuna/progress_bar.py:47: ExperimentalWarning: Progress bar is experimental (supported from v1.2.0). The interface can change in the future.\n",
      "  self._init_valid()\n"
     ]
    },
    {
     "name": "stdout",
     "output_type": "stream",
     "text": [
      "OrderedDict([('colsample_bylevel', 0.5825031167945831), ('depth', 0.3705008852603636), ('bootstrap_type', 0.03682084144016767), ('boosting_type', 0.010175156504885588)]) \n",
      "\n"
     ]
    },
    {
     "name": "stderr",
     "output_type": "stream",
     "text": [
      "100%|██████████| 30/30 [00:14<00:00,  2.01it/s]\n",
      "/home/vasil/earth-analytics-parent/earth-analytics/conda-env/lib/python3.9/site-packages/optuna/progress_bar.py:47: ExperimentalWarning: Progress bar is experimental (supported from v1.2.0). The interface can change in the future.\n",
      "  self._init_valid()\n"
     ]
    },
    {
     "name": "stdout",
     "output_type": "stream",
     "text": [
      "Model b_ridge\n",
      "Best params: {'n_iter': 147, 'alpha1': 8.922734199769425e-08, 'alpha2': 0.0009786843769192207}\n",
      "Best score: 0.13950282655278162\n",
      "OrderedDict([('alpha2', 1.0), ('n_iter', 3.306773424375692e-20), ('alpha1', 0.0)]) \n",
      "\n"
     ]
    },
    {
     "name": "stderr",
     "output_type": "stream",
     "text": [
      "100%|██████████| 30/30 [04:29<00:00,  8.98s/it]\n"
     ]
    },
    {
     "name": "stdout",
     "output_type": "stream",
     "text": [
      "Model hist_gbr\n",
      "Best params: {'max_iter': 449, 'max_leaf_nodes': 6}\n",
      "Best score: 0.1297006053717095\n",
      "OrderedDict([('max_leaf_nodes', 0.5190220612546738), ('max_iter', 0.48097793874532624)]) \n",
      "\n"
     ]
    }
   ],
   "source": [
    "\n",
    "functions = {\n",
    "    'ridge': ridge_cost, \n",
    "    'lasso': lasso_cost,\n",
    "    'xgboost': xgboost_cost, \n",
    "    # 'lgbm': lgbm_cost,\n",
    "    'cat_boost': catboost_cost,\n",
    "    'b_ridge': b_ridge_cost,\n",
    "    'hist_gbr': hist_gbr_cost,\n",
    "}\n",
    "\n",
    "for name in functions:\n",
    "    study = optuna.create_study()\n",
    "    study.optimize(functions[name], n_trials=30, show_progress_bar=True)\n",
    "    print(f'Model {name}')\n",
    "    print(f'Best params: {study.best_params}')\n",
    "    print(f'Best score: {study.best_value}')\n",
    "    print(optuna.importance.get_param_importances(study), '\\n')\n"
   ]
  },
  {
   "cell_type": "code",
   "execution_count": 75,
   "metadata": {},
   "outputs": [
    {
     "name": "stdout",
     "output_type": "stream",
     "text": [
      "Model xgboost: rmse 0.12474\n",
      "Model ridge: rmse 0.12931\n",
      "Model lgbm: rmse 0.13257\n",
      "Model cat_boost: rmse 0.11898\n",
      "Model b_ridge: rmse 0.12952\n",
      "Model hist_gbr: rmse 0.12737\n",
      "Ensemble model rmse: 0.11918\n"
     ]
    }
   ],
   "source": [
    "from sklearn.ensemble import VotingRegressor\n",
    "final_best_params = {}\n",
    "\n",
    "final_best_params['lasso'] = {\n",
    "    'lasso__alpha': 0.0027, \n",
    "    'lasso__tol': 1e-4 \n",
    "}\n",
    "\n",
    "final_best_params['ridge'] = {\n",
    "    'ridge__alpha': 98,\n",
    "    'ridge__tol': 9.943295651368705e-06\n",
    "}\n",
    "\n",
    "final_best_params['xgboost'] = {\n",
    "    'xgboost__eval_metric': 'rmse', \n",
    "    # 'xgboost__max_depth': 2, \n",
    "    # 'xgboost__n_estimators': 418,\n",
    "    # 'xgboost__min_child_weight': 1, \n",
    "    # 'xgboost__gamma': 0.0, \n",
    "    # 'xgboost__colsample_bytree': 0.16, \n",
    "    # 'xgboost__subsample': 0.78, \n",
    "    # 'xgboost__reg_alpha': 0.37,\n",
    "    # 'xgboost__reg_lambda': 0.25\n",
    "\n",
    "    # 'xgboost__max_depth': 2, \n",
    "    # 'xgboost__min_child_weight': 3, \n",
    "    # 'xgboost__colsample_bytree': 0.2049030222473224, \n",
    "    # 'xgboost__n_estimators': 479, \n",
    "    # 'xgboost__reg_lambda': 0.2824862837800328, \n",
    "    # 'xgboost__subsample': 0.9561978086541947, \n",
    "    # 'xgboost__alpha': 0.8384411117820882\n",
    "\n",
    "    'xgboost__max_depth': 2, \n",
    "    'xgboost__min_cw': 1, \n",
    "    'xgboost__colsample_bytree': 0.30032723879729, \n",
    "    'xgboost__n_estimators': 739, \n",
    "    'xgboost__reg_lambda': 0.4395478592115192, \n",
    "    'xgboost__subsample': 0.9343021941520818, \n",
    "    'xgboost__alpha': 0.7979573279152375\n",
    "}\n",
    "\n",
    "\n",
    "# final_best_params['GBR'] = {\n",
    "#     'GBR__loss': 'squared_error', \n",
    "#     'GBR__n_estimators': 380, \n",
    "#     'GBR__random_state': 1, \n",
    "#     'GBR__subsample': 1, \n",
    "#     'GBR__max_depth': 4, \n",
    "#     'GBR__min_samples_split': 8 \n",
    "# }\n",
    "\n",
    "\n",
    "final_best_params['lgbm'] = {}\n",
    "\n",
    "final_best_params['cat_boost'] = {\n",
    "    'cat_boost__colsample_bylevel': 0.0763157049902472, \n",
    "    'cat_boost__depth': 5, \n",
    "    'cat_boost__boosting_type': 'Plain', \n",
    "    'cat_boost__bootstrap_type': 'Bayesian'\n",
    "} # no improvement over default params\n",
    "\n",
    "final_best_params['b_ridge'] = {}\n",
    "\n",
    "final_best_params['hist_gbr'] = {\n",
    "    'hist_gbr__max_leaf_nodes': 5, \n",
    "    'hist_gbr__max_iter': 306\n",
    "}\n",
    "\n",
    "list_of_models = []\n",
    "scores = []\n",
    "for pipe_name in final_best_params:\n",
    "    # set the corresponding model with the optimal parameters\n",
    "    pipelines[pipe_name] = pipelines[pipe_name].set_params(**final_best_params[pipe_name])\n",
    "    pipe = pipelines[pipe_name]\n",
    "    list_of_models.append((pipe_name, pipe))\n",
    "    rmse = get_rmse(pipe, train_data, y)\n",
    "    scores.append(-rmse)\n",
    "    print(f'Model {pipe_name}: rmse {rmse:.5f}')\n",
    "\n",
    "weights = [min(scores)/score for score in scores]\n",
    "\n",
    "final_estimator = VotingRegressor(list_of_models, weights=weights)\n",
    "print(f'Ensemble model rmse: {get_rmse(final_estimator, train_data, y):.5f}')"
   ]
  },
  {
   "cell_type": "markdown",
   "metadata": {},
   "source": [
    "## Stacking model"
   ]
  },
  {
   "cell_type": "code",
   "execution_count": 76,
   "metadata": {},
   "outputs": [
    {
     "name": "stdout",
     "output_type": "stream",
     "text": [
      "['xgboost', 'ridge', 'lgbm', 'cat_boost', 'b_ridge', 'hist_gbr']\n",
      "Stacked model\n",
      "RMSE: 0.11984498936945749\n"
     ]
    }
   ],
   "source": [
    "from sklearn.ensemble import StackingRegressor, RandomForestRegressor\n",
    "from sklearn.linear_model import LinearRegression\n",
    "\n",
    "\n",
    "print([i for i in final_best_params])\n",
    "all_estimators = [(name, pipelines[name]) for name in final_best_params]\n",
    "stacked_model = StackingRegressor(estimators=all_estimators)\n",
    "\n",
    "print('Stacked model')\n",
    "print(f'RMSE: {get_rmse(stacked_model, train_data, y)}')"
   ]
  },
  {
   "cell_type": "markdown",
   "metadata": {},
   "source": [
    "## Generate final submission "
   ]
  },
  {
   "cell_type": "code",
   "execution_count": 14,
   "metadata": {},
   "outputs": [
    {
     "name": "stdout",
     "output_type": "stream",
     "text": [
      "(1459,) (1459,)\n"
     ]
    }
   ],
   "source": [
    "final_predictions = stacked_model.fit(train_data, y).predict(test_data)\n",
    "print(np.exp(final_predictions).shape, test_data_original['Id'].shape)\n",
    "output = pd.DataFrame({'Id': test_data_original.Id,\n",
    "                    'SalePrice': np.exp(final_predictions)})\n",
    "output.to_csv(f'code/house-prices-advanced-regression/big_ensemble_model_2.csv', index=False)"
   ]
  },
  {
   "cell_type": "code",
   "execution_count": null,
   "metadata": {},
   "outputs": [],
   "source": []
  }
 ],
 "metadata": {
  "interpreter": {
   "hash": "18f423941bc9d114fae7f04d212a56739c178c1e988574dac5cc94b8a9db688c"
  },
  "kernelspec": {
   "display_name": "Python 3.9.7",
   "language": "python",
   "name": "python3"
  },
  "language_info": {
   "codemirror_mode": {
    "name": "ipython",
    "version": 3
   },
   "file_extension": ".py",
   "mimetype": "text/x-python",
   "name": "python",
   "nbconvert_exporter": "python",
   "pygments_lexer": "ipython3",
   "version": "3.9.7"
  },
  "orig_nbformat": 4
 },
 "nbformat": 4,
 "nbformat_minor": 2
}
